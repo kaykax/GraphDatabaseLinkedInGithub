{
 "cells": [
  {
   "cell_type": "code",
   "execution_count": 12,
   "id": "ee3637ea-ec1b-440f-846f-9bf7cf2c1e6a",
   "metadata": {},
   "outputs": [],
   "source": [
    "import json\n",
    "import os.path\n",
    "import time\n",
    "import requests\n",
    "from io import StringIO\n",
    "import pandas as pd"
   ]
  },
  {
   "cell_type": "markdown",
   "id": "a73f0240",
   "metadata": {},
   "source": [
    "# This notebook will create `repo.csv` for scraped github data."
   ]
  },
  {
   "cell_type": "code",
   "execution_count": 11,
   "id": "ccf334d2-226b-42ac-9fc2-09ecac797281",
   "metadata": {},
   "outputs": [],
   "source": [
    "de_github = pd.read_excel('de_with_github.xlsx')\n",
    "ds_github = pd.read_excel('ds_with_github.xlsx')"
   ]
  },
  {
   "cell_type": "code",
   "execution_count": 13,
   "id": "0ff7ceb9-0fc5-4c29-9e38-4f2deeca3a8c",
   "metadata": {},
   "outputs": [],
   "source": [
    "to_keep = ['fullName', 'description', 'company', 'jobTitle', 'location', 'school',\n",
    "       'schoolDegree', 'allSkills', 'github_urls']"
   ]
  },
  {
   "cell_type": "code",
   "execution_count": 14,
   "id": "a0caa286-8250-4e27-a6bf-bb0389470b69",
   "metadata": {},
   "outputs": [],
   "source": [
    "df = pd.concat([ds_github, de_github], ignore_index=True)\n",
    "df = df[to_keep]"
   ]
  },
  {
   "cell_type": "code",
   "execution_count": 15,
   "id": "97d9f6e8-3013-4e90-8f05-5cfbf5bf6889",
   "metadata": {},
   "outputs": [],
   "source": [
    "df['github_urls'].fillna(\"not available\", inplace = True)"
   ]
  },
  {
   "cell_type": "code",
   "execution_count": 16,
   "id": "71d86c3c-fd4e-4287-94f9-1e1d7bf1e0be",
   "metadata": {},
   "outputs": [],
   "source": [
    "class GithubScarper():\n",
    "\n",
    "    def __init__(self, username):\n",
    "        self.username = username\n",
    "        self.userURL = f'https://api.github.com/users/{self.username}'\n",
    "        self.repoURL = f'https://api.github.com/users/{self.username}/repos'\n",
    "\n",
    "    def _save_json(self, filename, json_data):\n",
    "        with open(f'{filename}.json', 'w') as fp:\n",
    "            json.dump(json_data, fp , indent= True)\n",
    "    \n",
    "    def _get_repo_stats(self):\n",
    "        repoDataFromGithub = requests.get(self.repoURL).json()\n",
    "        self.useRepos = {}\n",
    "        for i in range(len(repoDataFromGithub)):\n",
    "            repo = {}\n",
    "            dataNeeded = [\n",
    "                'name',\n",
    "                'description',\n",
    "                'language'\n",
    "            ]\n",
    "            for (k, v) in repoDataFromGithub[i].items():\n",
    "                if k in dataNeeded:\n",
    "                    repo[k] = v\n",
    "    \n",
    "            self.useRepos[repoDataFromGithub[i]['name']] = repo\n",
    "        \n",
    "        return self.useRepos\n",
    "    \n",
    "    \n",
    "    def get_user_stats(self):\n",
    "        # this is data from github, we dont need all of it\n",
    "        userDataFromGithub = requests.get(self.userURL).json()\n",
    "        dataNeeded = [\n",
    "            'name'\n",
    "        ]\n",
    "        \n",
    "        self.userData = {}    \n",
    "        for (k, v) in userDataFromGithub.items():\n",
    "            if k in dataNeeded:\n",
    "                self.userData[k] = v\n",
    "        \n",
    "        self.userData['repos'] = self._get_repo_stats()\n",
    "                \n",
    "        self._save_json('output_of_User' , self.userData)\n",
    "        \n",
    "        return json.dumps(self.userData, indent=True)   "
   ]
  },
  {
   "cell_type": "code",
   "execution_count": 19,
   "id": "662e9b06-18df-44f2-af10-bf7d6798a700",
   "metadata": {
    "scrolled": true
   },
   "outputs": [
    {
     "data": {
      "text/plain": [
       "array(['https://github.com/tkhaxton', 'https://github.com/NatalieNunez',\n",
       "       'https://github.com/BrooksDiwu', 'https://github.com/sanjsvk',\n",
       "       'https://github.com/larissalong', 'https://github.com/anil10iitr',\n",
       "       'https://github.com/viveksnh', 'https://github.com/asy1113',\n",
       "       'https://github.com/prasadpagade', 'https://github.com/bkhurley',\n",
       "       'https://github.com/shwetashambhavi',\n",
       "       'https://github.com/victorhunguyen',\n",
       "       'https://github.com/setuparekh', 'https://github.com/meghaarora42',\n",
       "       'https://github.com/ARiccGitHub', 'https://github.com/mitosborn',\n",
       "       'https://github.com/lucas-reynolds',\n",
       "       'https://github.com/Kiranbrar', 'https://github.com/YeonjooSmith',\n",
       "       'https://github.com/julianeagu'], dtype=object)"
      ]
     },
     "execution_count": 19,
     "metadata": {},
     "output_type": "execute_result"
    }
   ],
   "source": [
    "df['github_urls'][df['github_urls']!='not available'].values[:20]"
   ]
  },
  {
   "cell_type": "markdown",
   "id": "27c19e92",
   "metadata": {},
   "source": [
    "# Note:  \n",
    "- Class GithubScarper() will crash when feeding too many github_tokens at one time, in the project, github data was manually chose for around ~50 github users from linkedin profile data\n",
    "- The output of GithubScarper() is json\n",
    "- repo.csv will be saved for importing graph database"
   ]
  },
  {
   "cell_type": "code",
   "execution_count": 22,
   "id": "8d1969ad-7baf-45d9-9e07-4f2f4f76b563",
   "metadata": {},
   "outputs": [
    {
     "data": {
      "text/plain": [
       "{'name': 'Natalie Nunez',\n",
       " 'repos': {'c0321-code-solutions': {'name': 'c0321-code-solutions',\n",
       "   'description': None,\n",
       "   'language': 'JavaScript'},\n",
       "  'code-journal': {'name': 'code-journal',\n",
       "   'description': 'A dynamic HTML, CSS, and JavaScript journal application for coders who want to capture their notes.',\n",
       "   'language': 'JavaScript'},\n",
       "  'CodeSignal': {'name': 'CodeSignal',\n",
       "   'description': None,\n",
       "   'language': 'TypeScript'},\n",
       "  'crackin-jokes': {'name': 'crackin-jokes',\n",
       "   'description': 'A dynamic HTML, CSS, and JavaScript solo project',\n",
       "   'language': 'JavaScript'},\n",
       "  'edabit': {'name': 'edabit', 'description': None, 'language': 'JavaScript'},\n",
       "  'JSPractice': {'name': 'JSPractice', 'description': None, 'language': None},\n",
       "  'meme-gallery': {'name': 'meme-gallery',\n",
       "   'description': 'An interactive HTML, CSS, and JavaScript app',\n",
       "   'language': 'JavaScript'},\n",
       "  'modern-javascript-2020': {'name': 'modern-javascript-2020',\n",
       "   'description': None,\n",
       "   'language': 'HTML'},\n",
       "  'NatalieNunez': {'name': 'NatalieNunez',\n",
       "   'description': 'My personal repository',\n",
       "   'language': None},\n",
       "  'our-day-wedding-planner': {'name': 'our-day-wedding-planner',\n",
       "   'description': 'Full-stack web application built in React and Node.js',\n",
       "   'language': 'JavaScript'},\n",
       "  'portfolio': {'name': 'portfolio',\n",
       "   'description': 'An HTML and CSS app to showcase my work',\n",
       "   'language': 'HTML'},\n",
       "  'prep-0221-code-solutions': {'name': 'prep-0221-code-solutions',\n",
       "   'description': None,\n",
       "   'language': 'HTML'},\n",
       "  'todo-list-ts': {'name': 'todo-list-ts',\n",
       "   'description': 'A to-do list made with TypeScript',\n",
       "   'language': 'JavaScript'},\n",
       "  'typescript-practice': {'name': 'typescript-practice',\n",
       "   'description': 'typescript practice problems',\n",
       "   'language': 'JavaScript'}}}"
      ]
     },
     "execution_count": 22,
     "metadata": {},
     "output_type": "execute_result"
    }
   ],
   "source": [
    "git_scraper = GithubScarper('NatalieNunez')\n",
    "git_data = git_scraper.get_user_stats()\n",
    "NatalieNunez = json.loads(git_data)\n",
    "NatalieNunez"
   ]
  },
  {
   "cell_type": "code",
   "execution_count": 233,
   "id": "b1570e4a-939a-4756-9a7c-0c7620d69ab3",
   "metadata": {},
   "outputs": [],
   "source": [
    "# git_content = [NatalieNunez,tkhaxton,zhengweifz,kewalkothari,nickweimer,elainew96,\n",
    "#      tongxinguo,WesCodes,jeremyrchow,christyono,hackcoderr,akan72,agorina91,\n",
    "#      harshitagirase,shreyasgokhale,mmkvdev,kavitha89,zhengweifz,rabujamra,FalconiNicasio,\n",
    "#     shbhamdbey,nithish08,davidjayjackson,alexwcheng,nestorghh,yuecchen,Sanil15,shbhamdbey,\n",
    "#     colesobel,Avinash998,hackcoderr,sudheera96,codingkohli,rohithreddy024,xizhang,alexseong,venkateshnanduri,\n",
    "#     chandlerphelps,adwaitsathe,Nehan95,davidjayjackson,adrianavesa,rahuldkjain,Williamovero,jinsongwei,raghuncstate,\n",
    "#     raj1603chdry,dattatele,HarshaliWagh,ivangoldov]"
   ]
  },
  {
   "cell_type": "code",
   "execution_count": 213,
   "id": "aaeb7b8a-e390-4d15-8de9-d7d09fb91c05",
   "metadata": {},
   "outputs": [],
   "source": [
    "# token_names = ['NatalieNunez','tkhaxton','zhengweifz','kewalkothari','nickweimer','elainew96',\n",
    "#      'tongxinguo','WesCodes','jeremyrchow','christyono','hackcoderr','akan72','agorina91',\n",
    "#      'harshitagirase','shreyasgokhale','mmkvdev','kavitha89','zhengweifz','rabujamra','FalconiNicasio',\n",
    "#     'shbhamdbey','nithish08','davidjayjackson','alexwcheng','nestorghh','yuecchen','Sanil15','shbhamdbey',\n",
    "#     'colesobel','Avinash998','hackcoderr','sudheera96','codingkohli','rohithreddy024','xizhang','alexseong','venkateshnanduri',\n",
    "#     'chandlerphelps','adwaitsathe','Nehan95','davidjayjackson','adrianavesa','rahuldkjain','Williamovero','jinsongwei','raghuncstate',\n",
    "#     'raj1603chdry','dattatele','HarshaliWagh','ivangoldov']"
   ]
  },
  {
   "cell_type": "code",
   "execution_count": 231,
   "id": "74fdd3c3-fce2-4ee0-9db9-68cacd3b6410",
   "metadata": {},
   "outputs": [
    {
     "data": {
      "text/html": [
       "<div>\n",
       "<style scoped>\n",
       "    .dataframe tbody tr th:only-of-type {\n",
       "        vertical-align: middle;\n",
       "    }\n",
       "\n",
       "    .dataframe tbody tr th {\n",
       "        vertical-align: top;\n",
       "    }\n",
       "\n",
       "    .dataframe thead th {\n",
       "        text-align: right;\n",
       "    }\n",
       "</style>\n",
       "<table border=\"1\" class=\"dataframe\">\n",
       "  <thead>\n",
       "    <tr style=\"text-align: right;\">\n",
       "      <th></th>\n",
       "      <th>fullName</th>\n",
       "      <th>token</th>\n",
       "    </tr>\n",
       "  </thead>\n",
       "  <tbody>\n",
       "    <tr>\n",
       "      <th>0</th>\n",
       "      <td>Tom Haxton</td>\n",
       "      <td>tkhaxton</td>\n",
       "    </tr>\n",
       "    <tr>\n",
       "      <th>1</th>\n",
       "      <td>Navata M.</td>\n",
       "      <td>not available</td>\n",
       "    </tr>\n",
       "    <tr>\n",
       "      <th>2</th>\n",
       "      <td>Austin Lin Gibbons</td>\n",
       "      <td>not available</td>\n",
       "    </tr>\n",
       "    <tr>\n",
       "      <th>3</th>\n",
       "      <td>Mike Woodward</td>\n",
       "      <td>not available</td>\n",
       "    </tr>\n",
       "    <tr>\n",
       "      <th>4</th>\n",
       "      <td>Tanuja Addanki</td>\n",
       "      <td>not available</td>\n",
       "    </tr>\n",
       "    <tr>\n",
       "      <th>...</th>\n",
       "      <td>...</td>\n",
       "      <td>...</td>\n",
       "    </tr>\n",
       "    <tr>\n",
       "      <th>447</th>\n",
       "      <td>Rakshitha  J</td>\n",
       "      <td>not available</td>\n",
       "    </tr>\n",
       "    <tr>\n",
       "      <th>448</th>\n",
       "      <td>Karthik Inuganti</td>\n",
       "      <td>not available</td>\n",
       "    </tr>\n",
       "    <tr>\n",
       "      <th>449</th>\n",
       "      <td>Seho Kim</td>\n",
       "      <td>SeHo-Kim</td>\n",
       "    </tr>\n",
       "    <tr>\n",
       "      <th>450</th>\n",
       "      <td>Datta Tele</td>\n",
       "      <td>dattatele</td>\n",
       "    </tr>\n",
       "    <tr>\n",
       "      <th>451</th>\n",
       "      <td>Jeremy Chow</td>\n",
       "      <td>jeremyrchow</td>\n",
       "    </tr>\n",
       "  </tbody>\n",
       "</table>\n",
       "<p>452 rows × 2 columns</p>\n",
       "</div>"
      ],
      "text/plain": [
       "               fullName          token\n",
       "0            Tom Haxton       tkhaxton\n",
       "1             Navata M.  not available\n",
       "2    Austin Lin Gibbons  not available\n",
       "3         Mike Woodward  not available\n",
       "4        Tanuja Addanki  not available\n",
       "..                  ...            ...\n",
       "447        Rakshitha  J  not available\n",
       "448    Karthik Inuganti  not available\n",
       "449            Seho Kim       SeHo-Kim\n",
       "450          Datta Tele      dattatele\n",
       "451         Jeremy Chow    jeremyrchow\n",
       "\n",
       "[452 rows x 2 columns]"
      ]
     },
     "execution_count": 231,
     "metadata": {},
     "output_type": "execute_result"
    }
   ],
   "source": [
    "fullname_with_token = df[['fullName', 'token']]\n",
    "fullname_with_token"
   ]
  },
  {
   "cell_type": "code",
   "execution_count": null,
   "id": "7b95b6a7-ee7c-4f77-ac2d-1bde7906f9bf",
   "metadata": {},
   "outputs": [],
   "source": [
    "token_df = pd.Dataframe(list(zip(token_names, tokens)), columns=[])"
   ]
  },
  {
   "cell_type": "code",
   "execution_count": 228,
   "id": "06a2119c-4103-475a-99ef-f897709d1b68",
   "metadata": {},
   "outputs": [],
   "source": [
    "df['token'] = df['github_urls'].apply(lambda x: os.path.split(x)[1])"
   ]
  },
  {
   "cell_type": "code",
   "execution_count": 133,
   "id": "c4efec3b-7ebc-450c-b2dc-19d8420cf2e2",
   "metadata": {},
   "outputs": [],
   "source": [
    "df_with_git_token = df.merge(git_df, how='outer', on='token')"
   ]
  },
  {
   "cell_type": "code",
   "execution_count": 253,
   "id": "af58d6a8-369f-4409-b97c-b9d7e6629773",
   "metadata": {},
   "outputs": [],
   "source": [
    "repoName = []\n",
    "description = []\n",
    "language = []\n",
    "repoOwnerToken = []\n",
    "\n",
    "for i,t in enumerate(git_content):\n",
    "    \n",
    "    for r in t['repos'].items():\n",
    "        repoName.append(r[1]['name'])\n",
    "        description.append(r[1]['description'])\n",
    "        language.append(r[1]['language'])\n",
    "        repoOwnerToken.append(token_names[i])"
   ]
  },
  {
   "cell_type": "code",
   "execution_count": 255,
   "id": "1d61155f-763a-42c3-b6c1-5410be6abce6",
   "metadata": {},
   "outputs": [],
   "source": [
    "repo_df = pd.DataFrame(list(zip(repoOwnerToken, repoName, description, language)), columns=['token','repoName','description','language'])\n",
    "repo_df.index.names = ['repoID']\n",
    "#repo_df.to_csv('repo.csv')"
   ]
  },
  {
   "cell_type": "code",
   "execution_count": 256,
   "id": "fa98b468-c77c-48e5-a86c-a008b3063c96",
   "metadata": {},
   "outputs": [
    {
     "data": {
      "text/plain": [
       "(834, 4)"
      ]
     },
     "execution_count": 256,
     "metadata": {},
     "output_type": "execute_result"
    }
   ],
   "source": [
    "repo_df.shape"
   ]
  },
  {
   "cell_type": "code",
   "execution_count": 257,
   "id": "14591327-ad5d-483c-b8b4-ec88b6ef7bc3",
   "metadata": {
    "scrolled": true
   },
   "outputs": [
    {
     "data": {
      "text/html": [
       "<div>\n",
       "<style scoped>\n",
       "    .dataframe tbody tr th:only-of-type {\n",
       "        vertical-align: middle;\n",
       "    }\n",
       "\n",
       "    .dataframe tbody tr th {\n",
       "        vertical-align: top;\n",
       "    }\n",
       "\n",
       "    .dataframe thead th {\n",
       "        text-align: right;\n",
       "    }\n",
       "</style>\n",
       "<table border=\"1\" class=\"dataframe\">\n",
       "  <thead>\n",
       "    <tr style=\"text-align: right;\">\n",
       "      <th></th>\n",
       "      <th>token</th>\n",
       "      <th>repoName</th>\n",
       "      <th>description</th>\n",
       "      <th>language</th>\n",
       "    </tr>\n",
       "    <tr>\n",
       "      <th>repoID</th>\n",
       "      <th></th>\n",
       "      <th></th>\n",
       "      <th></th>\n",
       "      <th></th>\n",
       "    </tr>\n",
       "  </thead>\n",
       "  <tbody>\n",
       "    <tr>\n",
       "      <th>0</th>\n",
       "      <td>NatalieNunez</td>\n",
       "      <td>c0321-code-solutions</td>\n",
       "      <td>None</td>\n",
       "      <td>JavaScript</td>\n",
       "    </tr>\n",
       "    <tr>\n",
       "      <th>1</th>\n",
       "      <td>NatalieNunez</td>\n",
       "      <td>code-journal</td>\n",
       "      <td>A dynamic HTML, CSS, and JavaScript journal ap...</td>\n",
       "      <td>JavaScript</td>\n",
       "    </tr>\n",
       "    <tr>\n",
       "      <th>2</th>\n",
       "      <td>NatalieNunez</td>\n",
       "      <td>CodeSignal</td>\n",
       "      <td>None</td>\n",
       "      <td>TypeScript</td>\n",
       "    </tr>\n",
       "    <tr>\n",
       "      <th>3</th>\n",
       "      <td>NatalieNunez</td>\n",
       "      <td>crackin-jokes</td>\n",
       "      <td>A dynamic HTML, CSS, and JavaScript solo project</td>\n",
       "      <td>JavaScript</td>\n",
       "    </tr>\n",
       "    <tr>\n",
       "      <th>4</th>\n",
       "      <td>NatalieNunez</td>\n",
       "      <td>edabit</td>\n",
       "      <td>None</td>\n",
       "      <td>JavaScript</td>\n",
       "    </tr>\n",
       "  </tbody>\n",
       "</table>\n",
       "</div>"
      ],
      "text/plain": [
       "               token              repoName  \\\n",
       "repoID                                       \n",
       "0       NatalieNunez  c0321-code-solutions   \n",
       "1       NatalieNunez          code-journal   \n",
       "2       NatalieNunez            CodeSignal   \n",
       "3       NatalieNunez         crackin-jokes   \n",
       "4       NatalieNunez                edabit   \n",
       "\n",
       "                                              description    language  \n",
       "repoID                                                                 \n",
       "0                                                    None  JavaScript  \n",
       "1       A dynamic HTML, CSS, and JavaScript journal ap...  JavaScript  \n",
       "2                                                    None  TypeScript  \n",
       "3        A dynamic HTML, CSS, and JavaScript solo project  JavaScript  \n",
       "4                                                    None  JavaScript  "
      ]
     },
     "execution_count": 257,
     "metadata": {},
     "output_type": "execute_result"
    }
   ],
   "source": [
    "repo_df.head()"
   ]
  }
 ],
 "metadata": {
  "kernelspec": {
   "display_name": "Python 3",
   "language": "python",
   "name": "python3"
  },
  "language_info": {
   "codemirror_mode": {
    "name": "ipython",
    "version": 3
   },
   "file_extension": ".py",
   "mimetype": "text/x-python",
   "name": "python",
   "nbconvert_exporter": "python",
   "pygments_lexer": "ipython3",
   "version": "3.8.11"
  }
 },
 "nbformat": 4,
 "nbformat_minor": 5
}
