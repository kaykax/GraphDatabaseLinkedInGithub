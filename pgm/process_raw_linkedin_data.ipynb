{
 "cells": [
  {
   "cell_type": "code",
   "execution_count": 10,
   "id": "882b60d5",
   "metadata": {},
   "outputs": [],
   "source": [
    "import re\n",
    "import pandas as pd"
   ]
  },
  {
   "cell_type": "code",
   "execution_count": 15,
   "id": "324d8061",
   "metadata": {},
   "outputs": [
    {
     "data": {
      "text/html": [
       "<div>\n",
       "<style scoped>\n",
       "    .dataframe tbody tr th:only-of-type {\n",
       "        vertical-align: middle;\n",
       "    }\n",
       "\n",
       "    .dataframe tbody tr th {\n",
       "        vertical-align: top;\n",
       "    }\n",
       "\n",
       "    .dataframe thead th {\n",
       "        text-align: right;\n",
       "    }\n",
       "</style>\n",
       "<table border=\"1\" class=\"dataframe\">\n",
       "  <thead>\n",
       "    <tr style=\"text-align: right;\">\n",
       "      <th></th>\n",
       "      <th>linkedinProfile</th>\n",
       "      <th>email</th>\n",
       "      <th>headline</th>\n",
       "      <th>location</th>\n",
       "      <th>imgUrl</th>\n",
       "      <th>firstName</th>\n",
       "      <th>lastName</th>\n",
       "      <th>fullName</th>\n",
       "      <th>subscribers</th>\n",
       "      <th>connectionDegree</th>\n",
       "      <th>...</th>\n",
       "      <th>schoolDateRange2</th>\n",
       "      <th>website</th>\n",
       "      <th>schoolDescription</th>\n",
       "      <th>schoolDescription2</th>\n",
       "      <th>connectionsCount</th>\n",
       "      <th>birthday</th>\n",
       "      <th>error</th>\n",
       "      <th>twitter</th>\n",
       "      <th>mail</th>\n",
       "      <th>facebookUrl</th>\n",
       "    </tr>\n",
       "  </thead>\n",
       "  <tbody>\n",
       "    <tr>\n",
       "      <th>0</th>\n",
       "      <td>https://www.linkedin.com/in/srimmele/</td>\n",
       "      <td>NaN</td>\n",
       "      <td>Data Science &amp; Engineering</td>\n",
       "      <td>New York, New York, United States</td>\n",
       "      <td>https://media-exp1.licdn.com/dms/image/C4D03AQ...</td>\n",
       "      <td>Simon</td>\n",
       "      <td>Rimmele</td>\n",
       "      <td>Simon Rimmele</td>\n",
       "      <td>556.0</td>\n",
       "      <td>2nd</td>\n",
       "      <td>...</td>\n",
       "      <td>NaN</td>\n",
       "      <td>NaN</td>\n",
       "      <td>NaN</td>\n",
       "      <td>NaN</td>\n",
       "      <td>NaN</td>\n",
       "      <td>NaN</td>\n",
       "      <td>NaN</td>\n",
       "      <td>NaN</td>\n",
       "      <td>NaN</td>\n",
       "      <td>NaN</td>\n",
       "    </tr>\n",
       "    <tr>\n",
       "      <th>1</th>\n",
       "      <td>https://www.linkedin.com/in/tom-haxton-4a231b89/</td>\n",
       "      <td>NaN</td>\n",
       "      <td>Data Science Manager at Quora</td>\n",
       "      <td>San Francisco Bay Area</td>\n",
       "      <td>https://media-exp1.licdn.com/dms/image/C4E03AQ...</td>\n",
       "      <td>Tom</td>\n",
       "      <td>Haxton</td>\n",
       "      <td>Tom Haxton</td>\n",
       "      <td>2590.0</td>\n",
       "      <td>2nd</td>\n",
       "      <td>...</td>\n",
       "      <td>2000 – 2004</td>\n",
       "      <td>nanotheory.lbl.gov/people/TomHaxton.html</td>\n",
       "      <td>NaN</td>\n",
       "      <td>NaN</td>\n",
       "      <td>NaN</td>\n",
       "      <td>NaN</td>\n",
       "      <td>NaN</td>\n",
       "      <td>NaN</td>\n",
       "      <td>NaN</td>\n",
       "      <td>NaN</td>\n",
       "    </tr>\n",
       "  </tbody>\n",
       "</table>\n",
       "<p>2 rows × 64 columns</p>\n",
       "</div>"
      ],
      "text/plain": [
       "                                    linkedinProfile email  \\\n",
       "0             https://www.linkedin.com/in/srimmele/   NaN   \n",
       "1  https://www.linkedin.com/in/tom-haxton-4a231b89/   NaN   \n",
       "\n",
       "                        headline                           location  \\\n",
       "0     Data Science & Engineering  New York, New York, United States   \n",
       "1  Data Science Manager at Quora             San Francisco Bay Area   \n",
       "\n",
       "                                              imgUrl firstName lastName  \\\n",
       "0  https://media-exp1.licdn.com/dms/image/C4D03AQ...     Simon  Rimmele   \n",
       "1  https://media-exp1.licdn.com/dms/image/C4E03AQ...       Tom   Haxton   \n",
       "\n",
       "        fullName  subscribers connectionDegree  ... schoolDateRange2  \\\n",
       "0  Simon Rimmele        556.0              2nd  ...              NaN   \n",
       "1     Tom Haxton       2590.0              2nd  ...      2000 – 2004   \n",
       "\n",
       "                                    website schoolDescription  \\\n",
       "0                                       NaN               NaN   \n",
       "1  nanotheory.lbl.gov/people/TomHaxton.html               NaN   \n",
       "\n",
       "  schoolDescription2 connectionsCount birthday error twitter mail facebookUrl  \n",
       "0                NaN              NaN      NaN   NaN     NaN  NaN         NaN  \n",
       "1                NaN              NaN      NaN   NaN     NaN  NaN         NaN  \n",
       "\n",
       "[2 rows x 64 columns]"
      ]
     },
     "execution_count": 15,
     "metadata": {},
     "output_type": "execute_result"
    }
   ],
   "source": [
    "ds = pd.read_csv('ds.csv')\n",
    "ds.head(2)"
   ]
  },
  {
   "cell_type": "code",
   "execution_count": 13,
   "id": "2edbc928",
   "metadata": {},
   "outputs": [],
   "source": [
    "to_keep = ['linkedinProfile', 'fullName', 'description', 'company', 'jobTitle', 'location', 'school'\n",
    "          ,'schoolDegree', 'allSkills', 'skill1', 'endorsement1', 'skill2', 'endorsement2', 'skill3', \n",
    "           'endorsement3', 'skill4', 'endorsement4', 'skill5', 'endorsement5', 'skill6', 'endorsement6']"
   ]
  },
  {
   "cell_type": "code",
   "execution_count": 14,
   "id": "1d1697cb",
   "metadata": {},
   "outputs": [],
   "source": [
    "ds = ds[to_keep]"
   ]
  },
  {
   "cell_type": "code",
   "execution_count": null,
   "id": "4a0d0be4",
   "metadata": {},
   "outputs": [],
   "source": [
    "ds.dropna(inplace=True)"
   ]
  },
  {
   "cell_type": "code",
   "execution_count": null,
   "id": "ddb02818",
   "metadata": {},
   "outputs": [],
   "source": [
    "def find_github_url(des):\n",
    "    try:\n",
    "        matched_result = re.search(\"(?P<url>https?://[^\\s]+)\", des).group()\n",
    "    except AttributeError:\n",
    "        matched_result = re.search(\"(?P<url>https?://[^\\s]+)\", des)\n",
    "    return matched_result\n",
    "\n",
    "ds['github_urls'] = ds['description'].apply(find_github_url)"
   ]
  },
  {
   "cell_type": "code",
   "execution_count": null,
   "id": "2fc0d68e",
   "metadata": {},
   "outputs": [],
   "source": [
    "ds = ds[['linkedinProfile', 'fullName', 'github_urls', 'description', 'company', 'jobTitle', 'location', 'school'\n",
    "          ,'schoolDegree', 'allSkills', 'skill1', 'endorsement1', 'skill2', 'endorsement2', 'skill3', \n",
    "           'endorsement3', 'skill4', 'endorsement4', 'skill5', 'endorsement5', 'skill6', 'endorsement6']]"
   ]
  },
  {
   "cell_type": "code",
   "execution_count": null,
   "id": "58e95263",
   "metadata": {},
   "outputs": [],
   "source": [
    "#ds.to_excel('ds_processed.xlsx')"
   ]
  },
  {
   "cell_type": "code",
   "execution_count": null,
   "id": "4464e783",
   "metadata": {},
   "outputs": [],
   "source": []
  },
  {
   "cell_type": "code",
   "execution_count": null,
   "id": "0a47d4a6",
   "metadata": {},
   "outputs": [],
   "source": [
    "de = pd.read_csv('de.csv')\n",
    "de.head(2)"
   ]
  },
  {
   "cell_type": "code",
   "execution_count": null,
   "id": "71af7724",
   "metadata": {},
   "outputs": [],
   "source": [
    "de = de[to_keep]"
   ]
  },
  {
   "cell_type": "code",
   "execution_count": null,
   "id": "9a9a7542",
   "metadata": {},
   "outputs": [],
   "source": [
    "de.dropna(inplace=True)"
   ]
  },
  {
   "cell_type": "code",
   "execution_count": null,
   "id": "4fa902f9",
   "metadata": {},
   "outputs": [],
   "source": [
    "de['github_urls'] = de['description'].apply(find_github_url)"
   ]
  },
  {
   "cell_type": "code",
   "execution_count": null,
   "id": "dbd4fba4",
   "metadata": {},
   "outputs": [],
   "source": [
    "de = de[['linkedinProfile', 'fullName', 'github_urls', 'description', 'company', 'jobTitle', 'location', 'school'\n",
    "          ,'schoolDegree', 'allSkills', 'skill1', 'endorsement1', 'skill2', 'endorsement2', 'skill3', \n",
    "           'endorsement3', 'skill4', 'endorsement4', 'skill5', 'endorsement5', 'skill6', 'endorsement6']]"
   ]
  },
  {
   "cell_type": "code",
   "execution_count": null,
   "id": "16bb8a2b",
   "metadata": {},
   "outputs": [],
   "source": [
    "#de.to_excel('de_processed.xlsx')"
   ]
  }
 ],
 "metadata": {
  "kernelspec": {
   "display_name": "Python 3",
   "language": "python",
   "name": "python3"
  },
  "language_info": {
   "codemirror_mode": {
    "name": "ipython",
    "version": 3
   },
   "file_extension": ".py",
   "mimetype": "text/x-python",
   "name": "python",
   "nbconvert_exporter": "python",
   "pygments_lexer": "ipython3",
   "version": "3.8.11"
  }
 },
 "nbformat": 4,
 "nbformat_minor": 5
}
